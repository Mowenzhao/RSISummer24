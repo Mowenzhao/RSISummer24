{
 "cells": [
  {
   "cell_type": "markdown",
   "id": "de4aaed7-8cad-4c85-a25e-cdad17b1b5f2",
   "metadata": {},
   "source": [
    "Turns out, CLASS has restrictions on how many components the model needs to run. Theoretically we can just change certain densities to really small number, but there are some restrictions to that as well.\\\n",
    "The textbook is very mathametical, which allows us to obstain results which are unphysical. However, CLASS uses empirical data as initial conditions, which implies the existance of unviolatable physical laws"
   ]
  },
  {
   "cell_type": "markdown",
   "id": "6b7b4d39-f8e2-402b-bf7b-b1d87e8db1d0",
   "metadata": {},
   "source": [
    "### Approach the various limits CLASS has on the different parameters\n",
    "By plotting the background evolution at these limits, we can simulate as close as we can the simplied model"
   ]
  },
  {
   "cell_type": "code",
   "execution_count": 2,
   "id": "174ed12b-81fc-41a0-aa17-f4948efcf427",
   "metadata": {},
   "outputs": [],
   "source": [
    "import numpy as np\n",
    "from classy import Class\n",
    "import matplotlib as mpl\n",
    "import matplotlib.pyplot as plt\n",
    "from scipy.interpolate import interp1d\n",
    "from scipy.optimize import fsolve"
   ]
  },
  {
   "cell_type": "code",
   "execution_count": 3,
   "id": "7441b19e-6d2f-47d1-a107-2e4aca578d6e",
   "metadata": {},
   "outputs": [],
   "source": [
    "def config_default():\n",
    "    config_default = {'h': 0.67810, 'A_s': 2.100549e-09, \n",
    "                            'omega_b': 0.0238280, \n",
    "                            'omega_cdm': 0.1201075, \n",
    "                            'T_cmb': 2.7255 ,'z_pk': 0, \n",
    "                            'output' : 'tCl,pCl,lCl,mPk',\n",
    "                            'lensing': 'yes', 'P_k_max_1/Mpc': 1., 'l_max_scalars': 2500,}\n",
    "    return config_default"
   ]
  },
  {
   "cell_type": "code",
   "execution_count": 4,
   "id": "fad7c707-147d-491f-96c0-e8c189841848",
   "metadata": {},
   "outputs": [],
   "source": [
    "def find_viable_parameters(parameter, increment_ratio: float, max_iterations=50):\n",
    "    \n",
    "    config = config_default()\n",
    "    start = config[parameter]\n",
    "    viable_params = [start]  # Start with the initial value as viable\n",
    "    param_increment = start*(1 + increment_ratio)\n",
    "    param_decrement = start*(1 - increment_ratio)\n",
    "\n",
    "    for _ in range(max_iterations):\n",
    "        print(_)\n",
    "        try:\n",
    "            config.update({parameter: param_increment})\n",
    "            cosmo_modified = Class() \n",
    "            cosmo_modified.set(config)\n",
    "            cosmo_modified.compute()\n",
    "            param_increment = param_increment*(1 + increment_ratio)  # Increment the parameter for the next iteration\n",
    "        except Exception as e:\n",
    "            # If an error occurs, print it and break out of the loop\n",
    "            print(f\"Stopped due to error: {e}\")\n",
    "            break\n",
    "        viable_params.append(param_increment)\n",
    "\n",
    "\n",
    "    for _ in range(max_iterations):\n",
    "        print(_)\n",
    "        try:\n",
    "            config.update({parameter: param_decrement})\n",
    "            cosmo_modified = Class() \n",
    "            cosmo_modified.set(config)\n",
    "            cosmo_modified.compute()\n",
    "            param_decrement = param_decrement*(1 - increment_ratio)\n",
    "        except Exception as e:\n",
    "            print(f\"\\n Stopped decrementing due to error: {e}\")\n",
    "            break\n",
    "        viable_params.append(param_decrement)\n",
    "    \n",
    "    return viable_params"
   ]
  },
  {
   "cell_type": "code",
   "execution_count": 5,
   "id": "3a6572bf-53fa-4637-9994-60de8dde31f0",
   "metadata": {},
   "outputs": [
    {
     "name": "stdout",
     "output_type": "stream",
     "text": [
      "0\n",
      "1\n",
      "2\n",
      "3\n",
      "4\n",
      "5\n",
      "Stopped due to error: \n",
      "\n",
      "Error in Class: thermodynamics_init(L:342) :error in thermodynamics_helium_from_bbn(ppr,pba,pth);\n",
      "=>thermodynamics_helium_from_bbn(L:656) :condition (omega_b > omegab[num_omegab-1]) is true; You have asked for an unrealistic high value omega_b = 4.221276e-02. The corresponding value of the primordial helium fraction cannot be found in the interpolation table. If you really want this value, you should fix YHe to a given value rather than to BBN\n",
      "0\n",
      "1\n",
      "2\n",
      "3\n",
      "4\n",
      "5\n",
      "6\n",
      "7\n",
      "8\n",
      "9\n",
      "10\n",
      "11\n",
      "12\n",
      "13\n",
      "14\n",
      "\n",
      " Stopped decrementing due to error: \n",
      "\n",
      "Error in Class: thermodynamics_init(L:342) :error in thermodynamics_helium_from_bbn(ppr,pba,pth);\n",
      "=>thermodynamics_helium_from_bbn(L:651) :condition (omega_b < omegab[0]) is true; You have asked for an unrealistic small value omega_b = 4.905974e-03. The corresponding value of the primordial helium fraction cannot be found in the interpolation table. If you really want this value, you should fix YHe to a given value rather than to BBN\n",
      "0\n",
      "1\n",
      "Stopped due to error: \n",
      "\n",
      "Error in Class: thermodynamics_init(L:404) :error in thermodynamics_solve(ppr,pba,pth,ptw,pvecback);\n",
      "=>thermodynamics_solve(L:1659) :error in generic_evolver(thermodynamics_derivs, interval_limit[index_interval], interval_limit[index_interval+1], ptw->ptdw->ptv->y, ptw->ptdw->ptv->used_in_output, ptw->ptdw->ptv->ti_size, &tpaw, ppr->tol_thermo_integration, ppr->smallest_allowed_variation, thermodynamics_timescale, ppr->thermo_integration_stepsize, mz_output, pth->tt_size, thermodynamics_sources, ((void *)0), pth->error_message);\n",
      "=>evolver_ndf15(L:227) :error in (*derivs)(t0,y+1,f0+1,parameters_and_workspace_for_derivs,error_message);\n",
      "=>thermodynamics_derivs(L:2665) :error in hyrec_dx_H_dz(pth,ptw->ptdw->phyrec,x_H,x_He,x,nH,z,Hz,Tmat,Trad,alpha,me,&(dy[ptv->index_ti_x_H]));\n",
      "=>hyrec_dx_H_dz(L:143) :error in rec_dxHIIdlna;\n",
      "=>\n",
      "**** ERROR HAS OCCURRED in HYREC-2 ****\n",
      "in interpolate_rates: TR = 0.414562 is out of range.\n",
      "  called from rec_swift_hyrec_dxHIIdlna\n",
      "  called from rec_dxHIIdlna\n",
      "\n",
      "0\n",
      "1\n",
      "2\n",
      "3\n",
      "4\n",
      "5\n",
      "6\n",
      "7\n",
      "8\n",
      "\n",
      " Stopped decrementing due to error: \n",
      "\n",
      "Error in Class: thermodynamics_init(L:411) :error in thermodynamics_calculate_remaining_quantities(ppr,pba,pth,pvecback);\n",
      "=>thermodynamics_calculate_remaining_quantities(L:1764) :error in thermodynamics_calculate_recombination_quantities(ppr,pba,pth,pvecback);\n",
      "=>thermodynamics_calculate_recombination_quantities(L:3762) :condition (pth->thermodynamics_table[(index_tau+1)*pth->th_size+pth->index_th_g] > pth->thermodynamics_table[index_tau*pth->th_size+pth->index_th_g]) is true; The visibility function is not increasing at redshift _Z_REC_MAX_=2000, which is the value imposed in thermodynamics.h\n",
      " This implies that recombination must have already happened at a too early time.\n"
     ]
    }
   ],
   "source": [
    "# argument: (paramter_name, increment_ratio)\n",
    "viable_omega_b = find_viable_parameters('omega_b', 0.1)\n",
    "viable_T_cmb = find_viable_parameters('T_cmb', 0.05)\n",
    "# cdm has not detected bounds"
   ]
  },
  {
   "cell_type": "code",
   "execution_count": 6,
   "id": "2013ac88-960f-4386-976f-678931d5cdc0",
   "metadata": {},
   "outputs": [
    {
     "name": "stdout",
     "output_type": "stream",
     "text": [
      "Stored 'viable_omega_b' (list)\n",
      "Stored 'viable_T_cmb' (list)\n"
     ]
    }
   ],
   "source": [
    "viable_omega_b.sort()\n",
    "viable_omega_b.pop(0)\n",
    "viable_omega_b.pop(-1)\n",
    "# the above method will include the fail instances, here manually eliminate them\n",
    "\n",
    "viable_T_cmb.sort()\n",
    "viable_T_cmb.pop(0)\n",
    "viable_T_cmb.pop(-1)\n",
    "\n",
    "%store viable_omega_b\n",
    "%store viable_T_cmb"
   ]
  },
  {
   "cell_type": "code",
   "execution_count": 7,
   "id": "e69e2c0c-8f16-4350-bb2e-f08afc79be3a",
   "metadata": {},
   "outputs": [
    {
     "data": {
      "text/plain": [
       "[0.005451082106168107,\n",
       " 0.006056757895742341,\n",
       " 0.006729730995269268,\n",
       " 0.00747747888363252,\n",
       " 0.0083083098707028,\n",
       " 0.009231455411892,\n",
       " 0.010257172679879998,\n",
       " 0.011396858533199997,\n",
       " 0.012663176147999998,\n",
       " 0.014070195719999998,\n",
       " 0.015633550799999996,\n",
       " 0.017370611999999997,\n",
       " 0.019300679999999997,\n",
       " 0.023828,\n",
       " 0.02883188,\n",
       " 0.031715068000000006,\n",
       " 0.03488657480000001,\n",
       " 0.03837523228000001]"
      ]
     },
     "execution_count": 7,
     "metadata": {},
     "output_type": "execute_result"
    }
   ],
   "source": [
    "viable_omega_b"
   ]
  },
  {
   "cell_type": "code",
   "execution_count": null,
   "id": "6bf2529d-10b6-4a40-895e-73937ab8d0a6",
   "metadata": {},
   "outputs": [],
   "source": []
  }
 ],
 "metadata": {
  "kernelspec": {
   "display_name": "Python 3 (ipykernel)",
   "language": "python",
   "name": "python3"
  },
  "language_info": {
   "codemirror_mode": {
    "name": "ipython",
    "version": 3
   },
   "file_extension": ".py",
   "mimetype": "text/x-python",
   "name": "python",
   "nbconvert_exporter": "python",
   "pygments_lexer": "ipython3",
   "version": "3.8.10"
  }
 },
 "nbformat": 4,
 "nbformat_minor": 5
}
